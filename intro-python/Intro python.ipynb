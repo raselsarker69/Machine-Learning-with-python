{
 "cells": [
  {
   "cell_type": "markdown",
   "id": "6170352e-42d0-4102-b062-385158f90019",
   "metadata": {},
   "source": [
    "INTODUCTION TO PYTHON"
   ]
  },
  {
   "cell_type": "code",
   "execution_count": 1,
   "id": "94fb17d9-5e29-4389-9bf1-d7ca23cbefb4",
   "metadata": {},
   "outputs": [
    {
     "name": "stdout",
     "output_type": "stream",
     "text": [
      "Hellow world\n"
     ]
    }
   ],
   "source": [
    "print('Hellow world')"
   ]
  },
  {
   "cell_type": "code",
   "execution_count": 2,
   "id": "76a241b8-ebed-4f7c-b169-4acc3896db2d",
   "metadata": {},
   "outputs": [
    {
     "name": "stdout",
     "output_type": "stream",
     "text": [
      "44\n"
     ]
    }
   ],
   "source": [
    "a = 10; b= 34;\n",
    "print(a+b)"
   ]
  },
  {
   "cell_type": "code",
   "execution_count": 3,
   "id": "f186e248-2555-41a6-9ce3-a4ba292e93b3",
   "metadata": {},
   "outputs": [
    {
     "name": "stdout",
     "output_type": "stream",
     "text": [
      "10 34\n"
     ]
    }
   ],
   "source": [
    "print(a,b)"
   ]
  },
  {
   "cell_type": "code",
   "execution_count": 5,
   "id": "18d13c21-47a1-420e-8a71-a9dfad436f75",
   "metadata": {},
   "outputs": [
    {
     "name": "stdout",
     "output_type": "stream",
     "text": [
      "Mujay maro\n"
     ]
    }
   ],
   "source": [
    "if a > b:\n",
    "    print('Tomak cai')\n",
    "else:\n",
    "    print('Mujay maro')"
   ]
  },
  {
   "cell_type": "code",
   "execution_count": 6,
   "id": "12cffd9a-1453-46ba-a89c-1b489bde1f66",
   "metadata": {},
   "outputs": [
    {
     "name": "stdout",
     "output_type": "stream",
     "text": [
      "pass in the exam\n"
     ]
    }
   ],
   "source": [
    "marks = 65\n",
    "\n",
    "if marks > 40:\n",
    "    print(\"pass in the exam\")\n",
    "\n",
    "else: \n",
    "    print(\"fail\")"
   ]
  },
  {
   "cell_type": "code",
   "execution_count": 9,
   "id": "e75e83c9-5a3a-4077-9890-0ddf25648b2f",
   "metadata": {},
   "outputs": [
    {
     "name": "stdout",
     "output_type": "stream",
     "text": [
      "Enter your marks:\n",
      "None\n",
      "<class 'NoneType'>\n"
     ]
    }
   ],
   "source": [
    "mark = print(\"Enter your marks:\")\n",
    "print(mark)\n",
    "print(type(mark))"
   ]
  },
  {
   "cell_type": "code",
   "execution_count": 10,
   "id": "ca28e862-7a8e-4f3f-9e45-b9e143d88b23",
   "metadata": {},
   "outputs": [
    {
     "name": "stdout",
     "output_type": "stream",
     "text": [
      "<class 'int'>\n"
     ]
    }
   ],
   "source": [
    "mark = 10\n",
    "print(type(mark))"
   ]
  },
  {
   "cell_type": "code",
   "execution_count": null,
   "id": "d8eb4eca-5ff3-410c-8614-6d7c456f4757",
   "metadata": {},
   "outputs": [],
   "source": [
    "x = float(1)\n",
    "y = float(2.8)\n",
    "z = float(\"3\")\n",
    "w = float(\"4.2\")"
   ]
  },
  {
   "cell_type": "code",
   "execution_count": 18,
   "id": "4baddf69-7b66-47dd-9795-132b010b7d5e",
   "metadata": {},
   "outputs": [
    {
     "name": "stdout",
     "output_type": "stream",
     "text": [
      "1.0\n",
      "2.8\n",
      "3.0\n",
      "4.2\n"
     ]
    }
   ],
   "source": [
    "print(x)\n",
    "print(y)\n",
    "print(z)\n",
    "print(w)"
   ]
  },
  {
   "cell_type": "code",
   "execution_count": 19,
   "id": "2aa36e66-8a98-407a-9042-536508a6864f",
   "metadata": {},
   "outputs": [
    {
     "name": "stdout",
     "output_type": "stream",
     "text": [
      "It's alright\n",
      "He is called 'Johnny'\n",
      "He is called \"Johnny\"\n"
     ]
    }
   ],
   "source": [
    "print(\"It's alright\")\n",
    "print(\"He is called 'Johnny'\")\n",
    "print('He is called \"Johnny\"')"
   ]
  },
  {
   "cell_type": "code",
   "execution_count": 20,
   "id": "41629dc1-2df3-4acd-befe-09a8ab754c42",
   "metadata": {},
   "outputs": [
    {
     "name": "stdout",
     "output_type": "stream",
     "text": [
      "llo\n"
     ]
    }
   ],
   "source": [
    "b = \"Hello, World!\"\n",
    "print(b[2:5])"
   ]
  },
  {
   "cell_type": "code",
   "execution_count": null,
   "id": "9e504e29-9e55-4722-9fde-3526642d2040",
   "metadata": {},
   "outputs": [],
   "source": []
  }
 ],
 "metadata": {
  "kernelspec": {
   "display_name": "Python 3 (ipykernel)",
   "language": "python",
   "name": "python3"
  },
  "language_info": {
   "codemirror_mode": {
    "name": "ipython",
    "version": 3
   },
   "file_extension": ".py",
   "mimetype": "text/x-python",
   "name": "python",
   "nbconvert_exporter": "python",
   "pygments_lexer": "ipython3",
   "version": "3.11.8"
  }
 },
 "nbformat": 4,
 "nbformat_minor": 5
}
