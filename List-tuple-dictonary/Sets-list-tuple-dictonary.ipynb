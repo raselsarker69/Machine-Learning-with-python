{
 "cells": [
  {
   "cell_type": "markdown",
   "id": "4914e6d7-6599-469f-9375-517df46df997",
   "metadata": {},
   "source": [
    "List"
   ]
  },
  {
   "cell_type": "code",
   "execution_count": 4,
   "id": "71b1960a-1ae7-4f74-a3ef-74008b2f8e45",
   "metadata": {},
   "outputs": [
    {
     "name": "stdout",
     "output_type": "stream",
     "text": [
      "['machine', 'learning', 1, 2, 3, 4, 5, 6, 10]\n"
     ]
    }
   ],
   "source": [
    "li = ['machine', 'learning', 1, 2, 3, 4, 5, 6, 10]\n",
    "print(li)"
   ]
  },
  {
   "cell_type": "code",
   "execution_count": 5,
   "id": "0c0672c5-1ac0-46c7-bf59-5aae8c32b643",
   "metadata": {},
   "outputs": [
    {
     "data": {
      "text/plain": [
       "list"
      ]
     },
     "execution_count": 5,
     "metadata": {},
     "output_type": "execute_result"
    }
   ],
   "source": [
    "type(li)"
   ]
  },
  {
   "cell_type": "code",
   "execution_count": 6,
   "id": "89b851b3-54bb-4e83-a081-464155f1d62b",
   "metadata": {},
   "outputs": [
    {
     "data": {
      "text/plain": [
       "'machine'"
      ]
     },
     "execution_count": 6,
     "metadata": {},
     "output_type": "execute_result"
    }
   ],
   "source": [
    "li[0]"
   ]
  },
  {
   "cell_type": "code",
   "execution_count": 7,
   "id": "a9a9b9c0-d3a2-40b3-9ac5-7c20dbeb3157",
   "metadata": {},
   "outputs": [
    {
     "data": {
      "text/plain": [
       "2"
      ]
     },
     "execution_count": 7,
     "metadata": {},
     "output_type": "execute_result"
    }
   ],
   "source": [
    "li[3]"
   ]
  },
  {
   "cell_type": "code",
   "execution_count": 10,
   "id": "c6bc534a-f7a5-4fb6-9f3e-53d151bdcf6e",
   "metadata": {},
   "outputs": [
    {
     "name": "stdout",
     "output_type": "stream",
     "text": [
      "['machine', 'learning', 1, 2, 3, 4, 5, 6, 10, 'deep learning', 'Deep learning', 'Deep learning']\n"
     ]
    }
   ],
   "source": [
    "li.append('Deep learning')\n",
    "print(li)"
   ]
  },
  {
   "cell_type": "code",
   "execution_count": 11,
   "id": "4ab937e1-4132-42a0-b38e-9911d18dfeef",
   "metadata": {},
   "outputs": [
    {
     "name": "stdout",
     "output_type": "stream",
     "text": [
      "['machine', 'learning', 1, 2, 3, 4, 5, 6, 10, 'deep learning', 'Deep learning', 'data science']\n"
     ]
    }
   ],
   "source": [
    "li[-1] = 'data science'\n",
    "print(li)"
   ]
  },
  {
   "cell_type": "code",
   "execution_count": 13,
   "id": "ae51859e-61b2-475a-9c1f-76136e33cd81",
   "metadata": {},
   "outputs": [
    {
     "name": "stdout",
     "output_type": "stream",
     "text": [
      "['machine', 'learning', 1, 2, 'python', 4, 5, 6, 10, 'deep learning', 'Deep learning', 'data science']\n"
     ]
    }
   ],
   "source": [
    "li[4] = 'python'\n",
    "print(li)"
   ]
  },
  {
   "cell_type": "code",
   "execution_count": 15,
   "id": "79b3327c-abb9-460a-97b1-5729aeda40cb",
   "metadata": {},
   "outputs": [
    {
     "name": "stdout",
     "output_type": "stream",
     "text": [
      "['machine', 'learning', 1, 2]\n"
     ]
    }
   ],
   "source": [
    "slice = li[0:4]\n",
    "print(slice)"
   ]
  },
  {
   "cell_type": "markdown",
   "id": "3d31d0d8-80eb-4760-8d78-c5d18a2e3c37",
   "metadata": {},
   "source": [
    "Tuple"
   ]
  },
  {
   "cell_type": "code",
   "execution_count": null,
   "id": "09410ee5-a47e-4492-bcc2-fbf6999674c6",
   "metadata": {},
   "outputs": [],
   "source": []
  }
 ],
 "metadata": {
  "kernelspec": {
   "display_name": "Python 3 (ipykernel)",
   "language": "python",
   "name": "python3"
  },
  "language_info": {
   "codemirror_mode": {
    "name": "ipython",
    "version": 3
   },
   "file_extension": ".py",
   "mimetype": "text/x-python",
   "name": "python",
   "nbconvert_exporter": "python",
   "pygments_lexer": "ipython3",
   "version": "3.11.8"
  }
 },
 "nbformat": 4,
 "nbformat_minor": 5
}
