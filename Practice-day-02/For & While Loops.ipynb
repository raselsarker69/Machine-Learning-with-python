{
 "cells": [
  {
   "cell_type": "markdown",
   "id": "9f7d9630-4c0e-4c96-8909-31f7cc2214d2",
   "metadata": {},
   "source": [
    "For & While Loops"
   ]
  },
  {
   "cell_type": "code",
   "execution_count": 15,
   "id": "e05eccf7-1c54-43c3-876c-81f3fe72cf0a",
   "metadata": {},
   "outputs": [
    {
     "name": "stdout",
     "output_type": "stream",
     "text": [
      "1\n",
      "2\n",
      "3\n",
      "4\n",
      "5\n",
      "6\n",
      "7\n",
      "8\n",
      "9\n",
      "10\n"
     ]
    }
   ],
   "source": [
    "n = 10\n",
    "for i in range(1, n + 1):\n",
    "        print(i)"
   ]
  },
  {
   "cell_type": "code",
   "execution_count": 14,
   "id": "de56f49b-354b-4b4f-92fc-47b95d4de47f",
   "metadata": {},
   "outputs": [
    {
     "name": "stdout",
     "output_type": "stream",
     "text": [
      "1\n",
      "3\n",
      "5\n",
      "7\n",
      "9\n"
     ]
    }
   ],
   "source": [
    "n = 10\n",
    "for i in range(1, n + 1):\n",
    "    if i % 2 == 1:\n",
    "        print(i)"
   ]
  },
  {
   "cell_type": "code",
   "execution_count": 26,
   "id": "33a9be53-0eef-47bb-9bf2-37418ca90920",
   "metadata": {},
   "outputs": [
    {
     "name": "stdout",
     "output_type": "stream",
     "text": [
      "15.0\n"
     ]
    }
   ],
   "source": [
    "n = 5\n",
    "sum = 0\n",
    "sum = n * (n+1)/2 \n",
    "print(sum)\n",
    "    "
   ]
  },
  {
   "cell_type": "markdown",
   "id": "91f5a98c-8427-48ac-adcd-b328dbc689b0",
   "metadata": {},
   "source": [
    "Factorial number"
   ]
  },
  {
   "cell_type": "code",
   "execution_count": 37,
   "id": "c583e4af-623b-4f13-a3d6-d52ed14c1ec0",
   "metadata": {},
   "outputs": [
    {
     "name": "stdout",
     "output_type": "stream",
     "text": [
      "24\n"
     ]
    }
   ],
   "source": [
    "def factorial(n):\n",
    "    if n < 0:\n",
    "        return 0\n",
    "    elif n == 0 or n == 1:\n",
    "        return 1\n",
    "    else:\n",
    "        fact = 1\n",
    "        while n > 0:\n",
    "            fact *= n\n",
    "            n -= 1\n",
    "        return fact\n",
    "\n",
    "num = 4\n",
    "print(factorial(num))"
   ]
  },
  {
   "cell_type": "markdown",
   "id": "a0fcf310-cc52-4637-8a7d-4d46cf874976",
   "metadata": {},
   "source": [
    "Table of a Number: "
   ]
  },
  {
   "cell_type": "code",
   "execution_count": 5,
   "id": "23b7ca74-5ba9-4457-a6e2-391882562a30",
   "metadata": {},
   "outputs": [
    {
     "name": "stdout",
     "output_type": "stream",
     "text": [
      "10 x 1 = 10\n",
      "10 x 2 = 20\n",
      "10 x 3 = 30\n",
      "10 x 4 = 40\n",
      "10 x 5 = 50\n",
      "10 x 6 = 60\n",
      "10 x 7 = 70\n",
      "10 x 8 = 80\n",
      "10 x 9 = 90\n",
      "10 x 10 = 100\n"
     ]
    }
   ],
   "source": [
    "num = 10\n",
    "\n",
    "for i in range(1, 11):\n",
    "    print(num, 'x', i, '=', num*i)"
   ]
  },
  {
   "cell_type": "markdown",
   "id": "506d0f88-b7c0-444d-8f5e-6b568351a620",
   "metadata": {},
   "source": [
    "Count Digits in a Number:"
   ]
  },
  {
   "cell_type": "code",
   "execution_count": 12,
   "id": "157dfd0f-fa78-4725-bb3f-94fdcee82dda",
   "metadata": {},
   "outputs": [
    {
     "name": "stdout",
     "output_type": "stream",
     "text": [
      "4\n"
     ]
    }
   ],
   "source": [
    "def countDigit(n):\n",
    "    if n == 0:\n",
    "        return 1 \n",
    "\n",
    "    count = 0\n",
    "    while n != 0:\n",
    "        n = n // 10  \n",
    "        count += 1\n",
    "    return count\n",
    "\n",
    "num = 1223\n",
    "print(countDigit(num))"
   ]
  },
  {
   "cell_type": "code",
   "execution_count": null,
   "id": "445c0a65-0b35-4bed-b74b-26ba5771c63b",
   "metadata": {},
   "outputs": [],
   "source": []
  }
 ],
 "metadata": {
  "kernelspec": {
   "display_name": "Python 3 (ipykernel)",
   "language": "python",
   "name": "python3"
  },
  "language_info": {
   "codemirror_mode": {
    "name": "ipython",
    "version": 3
   },
   "file_extension": ".py",
   "mimetype": "text/x-python",
   "name": "python",
   "nbconvert_exporter": "python",
   "pygments_lexer": "ipython3",
   "version": "3.11.8"
  }
 },
 "nbformat": 4,
 "nbformat_minor": 5
}
