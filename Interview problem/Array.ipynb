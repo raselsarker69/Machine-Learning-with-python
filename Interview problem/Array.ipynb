{
 "cells": [
  {
   "cell_type": "markdown",
   "id": "ddcedcff-3aa8-4305-837d-56efa6cc9a37",
   "metadata": {},
   "source": [
    "# Minumum and Maximum number find."
   ]
  },
  {
   "cell_type": "code",
   "execution_count": null,
   "id": "eab1795c-f698-4774-9d36-450e3ae4d697",
   "metadata": {},
   "outputs": [],
   "source": [
    "def find_min(A): \n",
    "    min_value = float('inf')\n",
    "    for num in A: \n",
    "        if num < min_value: \n",
    "            min_value = num \n",
    "    return min_value\n",
    "\n",
    "def find_max(B): \n",
    "    max_value = float('-inf')\n",
    "    for num in B:\n",
    "        if num > max_value: \n",
    "            max_value = num \n",
    "    return max_value\n",
    "\n",
    "\n",
    "A = [5, 10, 3, 6, 8, 9]\n",
    "result = find_max(A)\n",
    "print(result)"
   ]
  },
  {
   "cell_type": "markdown",
   "id": "63612e42-78d1-4a01-a07e-96335dc79203",
   "metadata": {},
   "source": [
    "# Array Reverse"
   ]
  },
  {
   "cell_type": "markdown",
   "id": "c5ecb335-66ab-4cb1-b60d-1d9d89e1a6de",
   "metadata": {},
   "source": [
    "Input: arr[] = {1, 4, 3, 2, 6, 5}  \n",
    "Output: {5, 6, 2, 3, 4, 1}\n",
    "Explanation: The first element 1 moves to last position, the second element 4 moves to second-last and so on.\n",
    "\n",
    "\n",
    "Input: arr[] = {4, 5, 1, 2} \n",
    "Output: {2, 1, 5, 4}\n",
    "Explanation: The first element 4 moves to last position, the second element 5 moves to second last and so on."
   ]
  },
  {
   "cell_type": "code",
   "execution_count": null,
   "id": "45d720ac-fe75-4697-ba93-56154210ebe0",
   "metadata": {},
   "outputs": [],
   "source": [
    "def reverse_array(A): \n",
    "    left = 0 \n",
    "    right = len(A) - 1\n",
    "\n",
    "    while left < right: \n",
    "        # Swap the elements at left and right indices\n",
    "        temp = A[left]\n",
    "        A[left] = A[right]\n",
    "        A[right] = temp\n",
    "\n",
    "        # Move the pointers towards the center\n",
    "        left += 1\n",
    "        right -= 1\n",
    "\n",
    "    return A\n",
    "\n",
    "if __name__ == \"__main__\": \n",
    "    reverseArray(arr) \n",
    "\n",
    "    for i in range(len(arr)): \n",
    "        print(arr[i], end=\" \")"
   ]
  },
  {
   "cell_type": "markdown",
   "id": "38e29f1b-67f1-43c7-a489-461dc5f1049a",
   "metadata": {},
   "source": [
    "# Program to cyclically rotate an array by one"
   ]
  },
  {
   "cell_type": "markdown",
   "id": "2f5f8c57-9dab-470d-a155-f968eb8c2370",
   "metadata": {},
   "source": [
    "Input: arr[] = {1, 2, 3, 4, 5} \n",
    "Output: arr[] = {5, 1, 2, 3, 4}\n",
    "\n",
    "\n",
    "Input: arr[] = {2, 3, 4, 5, 1}\n",
    "Output: {1, 2, 3, 4, 5}\n",
    "\n",
    "Assign every element with its previous element and first element with the last element ."
   ]
  },
  {
   "cell_type": "code",
   "execution_count": 15,
   "id": "da6e8c2a-e3a1-4c29-8420-f2e4980c6627",
   "metadata": {},
   "outputs": [
    {
     "name": "stdout",
     "output_type": "stream",
     "text": [
      "\n",
      "Rotated array is:\n",
      "5 1 2 3 4 "
     ]
    }
   ],
   "source": [
    "def rotate(arr, n):\n",
    "    # Store the last element of the array\n",
    "    last_el = arr[n - 1]\n",
    "\n",
    "    # Shift elements from the end to the beginning\n",
    "    for i in range(n - 1, 0, -1):\n",
    "        arr[i] = arr[i - 1]\n",
    "\n",
    "    # Move the last element to the first position\n",
    "    arr[0] = last_el\n",
    "\n",
    "# Example array and size\n",
    "arr = [1, 2, 3, 4, 5]\n",
    "n = len(arr)\n",
    "\n",
    "# Rotate the array\n",
    "rotate(arr, n)\n",
    "\n",
    "# Print the rotated array\n",
    "print(\"\\nRotated array is:\")\n",
    "for i in range(n):\n",
    "    print(arr[i], end=' ')\n"
   ]
  },
  {
   "cell_type": "code",
   "execution_count": null,
   "id": "13f38f73-deab-4814-8d9a-4d347d78e6fa",
   "metadata": {},
   "outputs": [],
   "source": []
  },
  {
   "cell_type": "code",
   "execution_count": null,
   "id": "cc750783-2714-437b-8bb0-13fd35dc341f",
   "metadata": {},
   "outputs": [],
   "source": []
  },
  {
   "cell_type": "code",
   "execution_count": null,
   "id": "bbceea0c-1e43-4868-84ee-81c6e696ae2f",
   "metadata": {},
   "outputs": [],
   "source": []
  },
  {
   "cell_type": "code",
   "execution_count": null,
   "id": "1951ed31-c33c-4b51-9a16-54d024e47437",
   "metadata": {},
   "outputs": [],
   "source": []
  },
  {
   "cell_type": "code",
   "execution_count": null,
   "id": "2a81b6c7-2ec2-4604-a274-c89da5db8c51",
   "metadata": {},
   "outputs": [],
   "source": []
  },
  {
   "cell_type": "code",
   "execution_count": null,
   "id": "bd9499e6-503c-4a4c-b54e-e303e6984342",
   "metadata": {},
   "outputs": [],
   "source": []
  },
  {
   "cell_type": "code",
   "execution_count": null,
   "id": "cd7e853b-5b81-4d3a-b47c-f30b259f9dc6",
   "metadata": {},
   "outputs": [],
   "source": [
    "def rotate(arr, n):\n",
    "    last_el = arr[i -1]\n",
    "\n",
    "    for i in range(n - 1, f)"
   ]
  }
 ],
 "metadata": {
  "kernelspec": {
   "display_name": "Python 3 (ipykernel)",
   "language": "python",
   "name": "python3"
  },
  "language_info": {
   "codemirror_mode": {
    "name": "ipython",
    "version": 3
   },
   "file_extension": ".py",
   "mimetype": "text/x-python",
   "name": "python",
   "nbconvert_exporter": "python",
   "pygments_lexer": "ipython3",
   "version": "3.11.8"
  }
 },
 "nbformat": 4,
 "nbformat_minor": 5
}
