{
 "cells": [
  {
   "cell_type": "code",
   "execution_count": null,
   "id": "e33180ed-127d-49cb-8e1a-847b524358bd",
   "metadata": {},
   "outputs": [],
   "source": [
    "Input: arr[] = {3, 5, 4, 1, 9}\n",
    "Output: Minimum element is: 1\n",
    "              Maximum element is: 9\n",
    "\n",
    "\n",
    "Input: arr[] = {22, 14, 8, 17, 35, 3}\n",
    "Output:  Minimum element is: 3\n",
    "              Maximum element is: 35"
   ]
  },
  {
   "cell_type": "code",
   "execution_count": 19,
   "id": "eab1795c-f698-4774-9d36-450e3ae4d697",
   "metadata": {},
   "outputs": [
    {
     "name": "stdout",
     "output_type": "stream",
     "text": [
      "10\n"
     ]
    }
   ],
   "source": [
    "def find_min(A): \n",
    "    min_value = float('inf')\n",
    "    for num in A: \n",
    "        if num < min_value: \n",
    "            min_value = num \n",
    "    return min_value\n",
    "\n",
    "def find_max(B): \n",
    "    max_value = float('-inf')\n",
    "    for num in B:\n",
    "        if num > max_value: \n",
    "            max_value = num \n",
    "    return max_value\n",
    "\n",
    "\n",
    "A = [5, 10, 3, 6, 8, 9]\n",
    "result = find_max(A)\n",
    "print(result)"
   ]
  },
  {
   "cell_type": "markdown",
   "id": "63612e42-78d1-4a01-a07e-96335dc79203",
   "metadata": {},
   "source": [
    "# Array Reverse"
   ]
  },
  {
   "cell_type": "markdown",
   "id": "c5ecb335-66ab-4cb1-b60d-1d9d89e1a6de",
   "metadata": {},
   "source": [
    "Input: arr[] = {1, 4, 3, 2, 6, 5}  \n",
    "Output: {5, 6, 2, 3, 4, 1}\n",
    "Explanation: The first element 1 moves to last position, the second element 4 moves to second-last and so on.\n",
    "\n",
    "\n",
    "Input: arr[] = {4, 5, 1, 2} \n",
    "Output: {2, 1, 5, 4}\n",
    "Explanation: The first element 4 moves to last position, the second element 5 moves to second last and so on."
   ]
  },
  {
   "cell_type": "code",
   "execution_count": null,
   "id": "45d720ac-fe75-4697-ba93-56154210ebe0",
   "metadata": {},
   "outputs": [],
   "source": [
    "def reverse_arr(A): \n",
    "    "
   ]
  },
  {
   "cell_type": "code",
   "execution_count": null,
   "id": "b63ea39c-85ab-40dc-b542-8e2c1b972a27",
   "metadata": {},
   "outputs": [],
   "source": []
  }
 ],
 "metadata": {
  "kernelspec": {
   "display_name": "Python 3 (ipykernel)",
   "language": "python",
   "name": "python3"
  },
  "language_info": {
   "codemirror_mode": {
    "name": "ipython",
    "version": 3
   },
   "file_extension": ".py",
   "mimetype": "text/x-python",
   "name": "python",
   "nbconvert_exporter": "python",
   "pygments_lexer": "ipython3",
   "version": "3.11.8"
  }
 },
 "nbformat": 4,
 "nbformat_minor": 5
}
