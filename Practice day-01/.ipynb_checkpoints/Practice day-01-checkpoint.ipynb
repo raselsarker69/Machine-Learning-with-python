{
 "cells": [
  {
   "cell_type": "markdown",
   "id": "289ce753-365f-4d06-97ef-1e62ff067738",
   "metadata": {},
   "source": [
    "Introduction to Python"
   ]
  },
  {
   "cell_type": "code",
   "execution_count": 2,
   "id": "723793dc-d5f1-4423-bd1a-cbc3f8f84df2",
   "metadata": {},
   "outputs": [
    {
     "name": "stdout",
     "output_type": "stream",
     "text": [
      "Recently I heard that you’ve achieved 95% marks in your exam. \n",
      "This is brilliant! \n",
      "I wish you’ll shine in your life! Good luck with all the barriers(/\\) in your life.\n"
     ]
    }
   ],
   "source": [
    "print('''Recently I heard that you’ve achieved 95% marks in your exam. \n",
    "This is brilliant! \n",
    "I wish you’ll shine in your life! Good luck with all the barriers(/\\) in your life.''')"
   ]
  },
  {
   "cell_type": "code",
   "execution_count": 3,
   "id": "e002b30c-e4e4-46e6-9bb3-e9e5f3bd4898",
   "metadata": {},
   "outputs": [
    {
     "name": "stdout",
     "output_type": "stream",
     "text": [
      "Recently I heard that you’ve achieved 95% marks in your exam. \n",
      "This is brilliant! \n",
      "I wish you’ll shine in your life! Good luck with all the barriers(/\\) in your life.\n"
     ]
    }
   ],
   "source": [
    "print('Recently I heard that you’ve achieved 95% marks in your exam. \\n\\\n",
    "This is brilliant! \\n\\\n",
    "I wish you’ll shine in your life! Good luck with all the barriers(/\\) in your life.')"
   ]
  },
  {
   "cell_type": "code",
   "execution_count": 8,
   "id": "8fbfe1be-5660-435b-9633-8799b2d3a274",
   "metadata": {},
   "outputs": [
    {
     "name": "stdout",
     "output_type": "stream",
     "text": [
      "7\n",
      "3\n",
      "10\n",
      "2.5\n"
     ]
    }
   ],
   "source": [
    "a = 5\n",
    "b = 2\n",
    "\n",
    "print(a + b)  \n",
    "print(a - b) \n",
    "print(a * b)  \n",
    "print(a / b)  "
   ]
  },
  {
   "cell_type": "code",
   "execution_count": 14,
   "id": "2faf1e25-41b5-4b58-96ba-56fcb8cf2e68",
   "metadata": {},
   "outputs": [
    {
     "name": "stdout",
     "output_type": "stream",
     "text": [
      "ODD\n"
     ]
    }
   ],
   "source": [
    "a = 3\n",
    "\n",
    "if a % 2 == 0:\n",
    "    print(\"Even\")\n",
    "else:\n",
    "    print(\"ODD\")"
   ]
  },
  {
   "cell_type": "code",
   "execution_count": 18,
   "id": "2d8331a1-4983-46a5-bb83-ebe71ebc6ef4",
   "metadata": {},
   "outputs": [
    {
     "name": "stdout",
     "output_type": "stream",
     "text": [
      "Zero\n"
     ]
    }
   ],
   "source": [
    "a = 0\n",
    "\n",
    "if a == 0:\n",
    "    print(\"Zero\")\n",
    "elif a > 0:\n",
    "    print(\"Positive\")\n",
    "else:\n",
    "    print(\"Negative\")"
   ]
  },
  {
   "cell_type": "code",
   "execution_count": 25,
   "id": "435fe266-d267-4a03-be93-21d659f1bad0",
   "metadata": {},
   "outputs": [
    {
     "name": "stdout",
     "output_type": "stream",
     "text": [
      "Something\n"
     ]
    }
   ],
   "source": [
    "a = 2000\n",
    "\n",
    "if a >= 20000:\n",
    "    print(\"Gucci Bag \\nGucci Belt\")\n",
    "elif a >= 10000:\n",
    "    print(\"Gucci Bag\")\n",
    "elif a >= 5000:\n",
    "    print(\"Levis Bag\")\n",
    "else:\n",
    "    print(\"Something\")"
   ]
  },
  {
   "cell_type": "code",
   "execution_count": null,
   "id": "47256b34-c228-4242-a2d5-923ea838dd71",
   "metadata": {},
   "outputs": [],
   "source": []
  }
 ],
 "metadata": {
  "kernelspec": {
   "display_name": "Python 3 (ipykernel)",
   "language": "python",
   "name": "python3"
  },
  "language_info": {
   "codemirror_mode": {
    "name": "ipython",
    "version": 3
   },
   "file_extension": ".py",
   "mimetype": "text/x-python",
   "name": "python",
   "nbconvert_exporter": "python",
   "pygments_lexer": "ipython3",
   "version": "3.11.8"
  }
 },
 "nbformat": 4,
 "nbformat_minor": 5
}
